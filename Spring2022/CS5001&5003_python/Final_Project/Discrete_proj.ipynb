{
 "cells": [
  {
   "cell_type": "code",
   "execution_count": null,
   "metadata": {
    "pycharm": {
     "is_executing": true
    }
   },
   "outputs": [],
   "source": [
    "import tkinter as tk"
   ]
  },
  {
   "cell_type": "code",
   "execution_count": null,
   "metadata": {
    "pycharm": {
     "name": "#%%\n"
    }
   },
   "outputs": [],
   "source": [
    "root = tk.Tk()\n",
    "root.title(\"Binary Number Converter\")\n",
    "root.resizable(width=False, height=False)"
   ]
  },
  {
   "cell_type": "code",
   "execution_count": null,
   "metadata": {},
   "outputs": [],
   "source": [
    "frame_entry = tk.Frame(master=root)\n",
    "enter_decimal_number = tk.Entry(master=frame_entry, width=10)\n",
    "label_num = tk.Label(master=frame_entry, text=\"(10)\")"
   ]
  },
  {
   "cell_type": "code",
   "execution_count": null,
   "metadata": {},
   "outputs": [],
   "source": [
    "# keep the entered number box to the leftmost edge of its grid cell\n",
    "# e denotes easter, w denotes west\n",
    "enter_decimal_number.grid(row=0, column=0, sticky='e')\n",
    "# stick to the rightmost\n",
    "label_num.grid(row=0, column=1, sticky='w')"
   ]
  },
  {
   "cell_type": "code",
   "execution_count": null,
   "metadata": {},
   "outputs": [],
   "source": [
    "# create a button to click on to convert the number\n",
    "btn_convert = tk.Button(\n",
    "    master=root,\n",
    "    text=\"\\N{RIGHTWARDS BLACK ARROW}\"\n",
    ")"
   ]
  },
  {
   "cell_type": "code",
   "execution_count": null,
   "metadata": {},
   "outputs": [],
   "source": [
    "# Display the converted binary number\n",
    "label_result = tk.Label(master=root, text=\"(2)\")\n"
   ]
  },
  {
   "cell_type": "code",
   "execution_count": null,
   "metadata": {},
   "outputs": [],
   "source": [
    "# Place the frame_entry, btn_convert, label_result grid listed from left to right\n",
    "frame_entry.grid(row=0, column=0, padx=10)\n",
    "btn_convert.grid(row=0, column=1, pady=10)\n",
    "label_result.grid(row=0, column=2, padx=10)"
   ]
  },
  {
   "cell_type": "code",
   "execution_count": null,
   "metadata": {},
   "outputs": [],
   "source": [
    "root.mainloop()"
   ]
  },
  {
   "cell_type": "code",
   "execution_count": null,
   "metadata": {},
   "outputs": [],
   "source": []
  },
  {
   "cell_type": "code",
   "execution_count": null,
   "metadata": {},
   "outputs": [],
   "source": []
  }
 ],
 "metadata": {
  "kernelspec": {
   "display_name": "Python 3 (ipykernel)",
   "language": "python",
   "name": "python3"
  },
  "language_info": {
   "codemirror_mode": {
    "name": "ipython",
    "version": 2
   },
   "file_extension": ".py",
   "mimetype": "text/x-python",
   "name": "python",
   "nbconvert_exporter": "python",
   "pygments_lexer": "ipython2",
   "version": "2.7.6"
  }
 },
 "nbformat": 4,
 "nbformat_minor": 1
}